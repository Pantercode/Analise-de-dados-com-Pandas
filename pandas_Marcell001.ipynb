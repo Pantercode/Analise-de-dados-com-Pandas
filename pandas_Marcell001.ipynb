{
 "cells": [
  {
   "cell_type": "markdown",
   "id": "5308aa86",
   "metadata": {},
   "source": [
    "#Aula1"
   ]
  },
  {
   "cell_type": "code",
   "execution_count": null,
   "id": "44de0033",
   "metadata": {},
   "outputs": [],
   "source": []
  },
  {
   "cell_type": "markdown",
   "id": "76f4eaee",
   "metadata": {},
   "source": [
    "#Importando Bibliotecas"
   ]
  },
  {
   "cell_type": "code",
   "execution_count": 56,
   "id": "66e19fe2",
   "metadata": {},
   "outputs": [],
   "source": [
    "import pandas as pd\n",
    "import numpy as np"
   ]
  },
  {
   "cell_type": "markdown",
   "id": "b2a06d39",
   "metadata": {},
   "source": [
    "#Criando Series"
   ]
  },
  {
   "cell_type": "code",
   "execution_count": 16,
   "id": "cfe2ffd8",
   "metadata": {},
   "outputs": [],
   "source": [
    "series = pd.Series([7,4,3,np.nan,6,9])"
   ]
  },
  {
   "cell_type": "code",
   "execution_count": 17,
   "id": "5b231016",
   "metadata": {},
   "outputs": [
    {
     "data": {
      "text/plain": [
       "0    7.0\n",
       "1    4.0\n",
       "2    3.0\n",
       "3    NaN\n",
       "4    6.0\n",
       "5    9.0\n",
       "dtype: float64"
      ]
     },
     "execution_count": 17,
     "metadata": {},
     "output_type": "execute_result"
    }
   ],
   "source": [
    "series"
   ]
  },
  {
   "cell_type": "code",
   "execution_count": 18,
   "id": "0eb0ad73",
   "metadata": {},
   "outputs": [
    {
     "data": {
      "text/plain": [
       "pandas.core.series.Series"
      ]
     },
     "execution_count": 18,
     "metadata": {},
     "output_type": "execute_result"
    }
   ],
   "source": [
    "type(series)# tipo da serie"
   ]
  },
  {
   "cell_type": "markdown",
   "id": "33fddc0c",
   "metadata": {},
   "source": [
    "#Criando datas aleatorias"
   ]
  },
  {
   "cell_type": "code",
   "execution_count": 21,
   "id": "560baf0b",
   "metadata": {},
   "outputs": [],
   "source": [
    "#datas = pd.date_range(\"20201021\",periods =6)"
   ]
  },
  {
   "cell_type": "code",
   "execution_count": 22,
   "id": "d00e8b90",
   "metadata": {},
   "outputs": [
    {
     "data": {
      "text/plain": [
       "DatetimeIndex(['2020-10-21', '2020-10-22', '2020-10-23', '2020-10-24',\n",
       "               '2020-10-25', '2020-10-26'],\n",
       "              dtype='datetime64[ns]', freq='D')"
      ]
     },
     "execution_count": 22,
     "metadata": {},
     "output_type": "execute_result"
    }
   ],
   "source": [
    "#datas"
   ]
  },
  {
   "cell_type": "code",
   "execution_count": 25,
   "id": "a470a6c6",
   "metadata": {},
   "outputs": [],
   "source": [
    "datas1 = pd.date_range(\"20200917\",periods = 8)"
   ]
  },
  {
   "cell_type": "code",
   "execution_count": 26,
   "id": "2d224baa",
   "metadata": {},
   "outputs": [
    {
     "data": {
      "text/plain": [
       "DatetimeIndex(['2020-09-17', '2020-09-18', '2020-09-19', '2020-09-20',\n",
       "               '2020-09-21', '2020-09-22', '2020-09-23', '2020-09-24'],\n",
       "              dtype='datetime64[ns]', freq='D')"
      ]
     },
     "execution_count": 26,
     "metadata": {},
     "output_type": "execute_result"
    }
   ],
   "source": [
    "datas1"
   ]
  },
  {
   "cell_type": "code",
   "execution_count": 28,
   "id": "41a3814b",
   "metadata": {},
   "outputs": [
    {
     "name": "stdout",
     "output_type": "stream",
     "text": [
      "Object `pd.date_range()` not found.\n"
     ]
    }
   ],
   "source": [
    "?pd.date_range()"
   ]
  },
  {
   "cell_type": "markdown",
   "id": "a610f9fb",
   "metadata": {},
   "source": [
    "#Datas com periodo de 6  variado por mes"
   ]
  },
  {
   "cell_type": "code",
   "execution_count": 31,
   "id": "9ae0b8a4",
   "metadata": {},
   "outputs": [],
   "source": [
    "datam = pd.date_range(\"19891204\",periods = 6 ,freq = \"M\") "
   ]
  },
  {
   "cell_type": "code",
   "execution_count": 32,
   "id": "3f14c619",
   "metadata": {},
   "outputs": [
    {
     "data": {
      "text/plain": [
       "DatetimeIndex(['1989-12-31', '1990-01-31', '1990-02-28', '1990-03-31',\n",
       "               '1990-04-30', '1990-05-31'],\n",
       "              dtype='datetime64[ns]', freq='M')"
      ]
     },
     "execution_count": 32,
     "metadata": {},
     "output_type": "execute_result"
    }
   ],
   "source": [
    "datam"
   ]
  },
  {
   "cell_type": "code",
   "execution_count": 35,
   "id": "d3bd1b0e",
   "metadata": {},
   "outputs": [
    {
     "data": {
      "text/plain": [
       "pandas.core.indexes.datetimes.DatetimeIndex"
      ]
     },
     "execution_count": 35,
     "metadata": {},
     "output_type": "execute_result"
    }
   ],
   "source": [
    "type(datas)"
   ]
  },
  {
   "cell_type": "markdown",
   "id": "ab2512ff",
   "metadata": {},
   "source": [
    "#Aula2"
   ]
  },
  {
   "cell_type": "markdown",
   "id": "b6ae4b54",
   "metadata": {},
   "source": [
    "#Criando dados Aleátorio"
   ]
  },
  {
   "cell_type": "code",
   "execution_count": 39,
   "id": "f65c9183",
   "metadata": {},
   "outputs": [],
   "source": [
    "datas = pd.date_range(\"20171003\", periods = 6)"
   ]
  },
  {
   "cell_type": "code",
   "execution_count": 41,
   "id": "03c4a455",
   "metadata": {},
   "outputs": [],
   "source": [
    "df = pd.DataFrame(np.random.randn(6,4), index = datas, columns = list(\"ABCD\"))"
   ]
  },
  {
   "cell_type": "code",
   "execution_count": 42,
   "id": "9ee684e7",
   "metadata": {},
   "outputs": [
    {
     "data": {
      "text/html": [
       "<div>\n",
       "<style scoped>\n",
       "    .dataframe tbody tr th:only-of-type {\n",
       "        vertical-align: middle;\n",
       "    }\n",
       "\n",
       "    .dataframe tbody tr th {\n",
       "        vertical-align: top;\n",
       "    }\n",
       "\n",
       "    .dataframe thead th {\n",
       "        text-align: right;\n",
       "    }\n",
       "</style>\n",
       "<table border=\"1\" class=\"dataframe\">\n",
       "  <thead>\n",
       "    <tr style=\"text-align: right;\">\n",
       "      <th></th>\n",
       "      <th>A</th>\n",
       "      <th>B</th>\n",
       "      <th>C</th>\n",
       "      <th>D</th>\n",
       "    </tr>\n",
       "  </thead>\n",
       "  <tbody>\n",
       "    <tr>\n",
       "      <th>2017-10-03</th>\n",
       "      <td>-0.452354</td>\n",
       "      <td>-0.268241</td>\n",
       "      <td>-0.697488</td>\n",
       "      <td>-0.426005</td>\n",
       "    </tr>\n",
       "    <tr>\n",
       "      <th>2017-10-04</th>\n",
       "      <td>0.942594</td>\n",
       "      <td>-0.789401</td>\n",
       "      <td>0.450657</td>\n",
       "      <td>-0.158638</td>\n",
       "    </tr>\n",
       "    <tr>\n",
       "      <th>2017-10-05</th>\n",
       "      <td>0.865348</td>\n",
       "      <td>1.611511</td>\n",
       "      <td>-0.969963</td>\n",
       "      <td>-0.062278</td>\n",
       "    </tr>\n",
       "    <tr>\n",
       "      <th>2017-10-06</th>\n",
       "      <td>-0.183115</td>\n",
       "      <td>-0.135332</td>\n",
       "      <td>0.865341</td>\n",
       "      <td>-0.667306</td>\n",
       "    </tr>\n",
       "    <tr>\n",
       "      <th>2017-10-07</th>\n",
       "      <td>-0.878601</td>\n",
       "      <td>0.091379</td>\n",
       "      <td>2.111202</td>\n",
       "      <td>-1.121957</td>\n",
       "    </tr>\n",
       "    <tr>\n",
       "      <th>2017-10-08</th>\n",
       "      <td>-1.061279</td>\n",
       "      <td>-2.467191</td>\n",
       "      <td>0.287309</td>\n",
       "      <td>0.073029</td>\n",
       "    </tr>\n",
       "  </tbody>\n",
       "</table>\n",
       "</div>"
      ],
      "text/plain": [
       "                   A         B         C         D\n",
       "2017-10-03 -0.452354 -0.268241 -0.697488 -0.426005\n",
       "2017-10-04  0.942594 -0.789401  0.450657 -0.158638\n",
       "2017-10-05  0.865348  1.611511 -0.969963 -0.062278\n",
       "2017-10-06 -0.183115 -0.135332  0.865341 -0.667306\n",
       "2017-10-07 -0.878601  0.091379  2.111202 -1.121957\n",
       "2017-10-08 -1.061279 -2.467191  0.287309  0.073029"
      ]
     },
     "execution_count": 42,
     "metadata": {},
     "output_type": "execute_result"
    }
   ],
   "source": [
    "df"
   ]
  },
  {
   "cell_type": "code",
   "execution_count": 43,
   "id": "fd321d38",
   "metadata": {},
   "outputs": [],
   "source": [
    "#Gerando Array 6.4 Aleatorios\n",
    "df2 = pd.DataFrame(np.random.randn(6,4), index = datas, columns = [\"Carros\",\"Países\",\"Pessoas\",\"Python\"]) "
   ]
  },
  {
   "cell_type": "code",
   "execution_count": 44,
   "id": "c89626ea",
   "metadata": {},
   "outputs": [
    {
     "data": {
      "text/html": [
       "<div>\n",
       "<style scoped>\n",
       "    .dataframe tbody tr th:only-of-type {\n",
       "        vertical-align: middle;\n",
       "    }\n",
       "\n",
       "    .dataframe tbody tr th {\n",
       "        vertical-align: top;\n",
       "    }\n",
       "\n",
       "    .dataframe thead th {\n",
       "        text-align: right;\n",
       "    }\n",
       "</style>\n",
       "<table border=\"1\" class=\"dataframe\">\n",
       "  <thead>\n",
       "    <tr style=\"text-align: right;\">\n",
       "      <th></th>\n",
       "      <th>Carros</th>\n",
       "      <th>Países</th>\n",
       "      <th>Pessoas</th>\n",
       "      <th>Python</th>\n",
       "    </tr>\n",
       "  </thead>\n",
       "  <tbody>\n",
       "    <tr>\n",
       "      <th>2017-10-03</th>\n",
       "      <td>1.474793</td>\n",
       "      <td>0.877648</td>\n",
       "      <td>-0.382591</td>\n",
       "      <td>-0.584400</td>\n",
       "    </tr>\n",
       "    <tr>\n",
       "      <th>2017-10-04</th>\n",
       "      <td>1.088853</td>\n",
       "      <td>0.099471</td>\n",
       "      <td>0.827784</td>\n",
       "      <td>0.207910</td>\n",
       "    </tr>\n",
       "    <tr>\n",
       "      <th>2017-10-05</th>\n",
       "      <td>0.827254</td>\n",
       "      <td>1.001326</td>\n",
       "      <td>1.749845</td>\n",
       "      <td>0.592949</td>\n",
       "    </tr>\n",
       "    <tr>\n",
       "      <th>2017-10-06</th>\n",
       "      <td>0.054435</td>\n",
       "      <td>1.175828</td>\n",
       "      <td>-0.716441</td>\n",
       "      <td>0.484726</td>\n",
       "    </tr>\n",
       "    <tr>\n",
       "      <th>2017-10-07</th>\n",
       "      <td>-0.585998</td>\n",
       "      <td>-0.534499</td>\n",
       "      <td>0.051929</td>\n",
       "      <td>-2.035096</td>\n",
       "    </tr>\n",
       "    <tr>\n",
       "      <th>2017-10-08</th>\n",
       "      <td>-0.298020</td>\n",
       "      <td>-0.599972</td>\n",
       "      <td>0.561324</td>\n",
       "      <td>0.234599</td>\n",
       "    </tr>\n",
       "  </tbody>\n",
       "</table>\n",
       "</div>"
      ],
      "text/plain": [
       "              Carros    Países   Pessoas    Python\n",
       "2017-10-03  1.474793  0.877648 -0.382591 -0.584400\n",
       "2017-10-04  1.088853  0.099471  0.827784  0.207910\n",
       "2017-10-05  0.827254  1.001326  1.749845  0.592949\n",
       "2017-10-06  0.054435  1.175828 -0.716441  0.484726\n",
       "2017-10-07 -0.585998 -0.534499  0.051929 -2.035096\n",
       "2017-10-08 -0.298020 -0.599972  0.561324  0.234599"
      ]
     },
     "execution_count": 44,
     "metadata": {},
     "output_type": "execute_result"
    }
   ],
   "source": [
    "df2"
   ]
  },
  {
   "cell_type": "code",
   "execution_count": 45,
   "id": "0cbdc79e",
   "metadata": {},
   "outputs": [
    {
     "data": {
      "text/plain": [
       "pandas.core.frame.DataFrame"
      ]
     },
     "execution_count": 45,
     "metadata": {},
     "output_type": "execute_result"
    }
   ],
   "source": [
    "type(df)"
   ]
  },
  {
   "cell_type": "code",
   "execution_count": 59,
   "id": "fec0452d",
   "metadata": {},
   "outputs": [],
   "source": [
    "df3 = pd.DataFrame({\"A\":7,\n",
    "                  \"B\": pd.Timestamp('20190101'),\n",
    "                  \"C\": pd.Series(1, index=list(range(4)), dtype='float32'),\n",
    "                  \"D\": np.array([3] * 4, dtype='int32' ),\n",
    "                  \"E\": pd.Categorical([\"test\",\"train\",\"test\",\"train\"]),\n",
    "                  \"F\": \"Python\" })\n",
    "\n",
    "                                  "
   ]
  },
  {
   "cell_type": "code",
   "execution_count": 60,
   "id": "836d7ba2",
   "metadata": {},
   "outputs": [
    {
     "data": {
      "text/html": [
       "<div>\n",
       "<style scoped>\n",
       "    .dataframe tbody tr th:only-of-type {\n",
       "        vertical-align: middle;\n",
       "    }\n",
       "\n",
       "    .dataframe tbody tr th {\n",
       "        vertical-align: top;\n",
       "    }\n",
       "\n",
       "    .dataframe thead th {\n",
       "        text-align: right;\n",
       "    }\n",
       "</style>\n",
       "<table border=\"1\" class=\"dataframe\">\n",
       "  <thead>\n",
       "    <tr style=\"text-align: right;\">\n",
       "      <th></th>\n",
       "      <th>A</th>\n",
       "      <th>B</th>\n",
       "      <th>C</th>\n",
       "      <th>D</th>\n",
       "      <th>E</th>\n",
       "      <th>F</th>\n",
       "    </tr>\n",
       "  </thead>\n",
       "  <tbody>\n",
       "    <tr>\n",
       "      <th>0</th>\n",
       "      <td>7</td>\n",
       "      <td>2019-01-01</td>\n",
       "      <td>1.0</td>\n",
       "      <td>3</td>\n",
       "      <td>test</td>\n",
       "      <td>Python</td>\n",
       "    </tr>\n",
       "    <tr>\n",
       "      <th>1</th>\n",
       "      <td>7</td>\n",
       "      <td>2019-01-01</td>\n",
       "      <td>1.0</td>\n",
       "      <td>3</td>\n",
       "      <td>train</td>\n",
       "      <td>Python</td>\n",
       "    </tr>\n",
       "    <tr>\n",
       "      <th>2</th>\n",
       "      <td>7</td>\n",
       "      <td>2019-01-01</td>\n",
       "      <td>1.0</td>\n",
       "      <td>3</td>\n",
       "      <td>test</td>\n",
       "      <td>Python</td>\n",
       "    </tr>\n",
       "    <tr>\n",
       "      <th>3</th>\n",
       "      <td>7</td>\n",
       "      <td>2019-01-01</td>\n",
       "      <td>1.0</td>\n",
       "      <td>3</td>\n",
       "      <td>train</td>\n",
       "      <td>Python</td>\n",
       "    </tr>\n",
       "  </tbody>\n",
       "</table>\n",
       "</div>"
      ],
      "text/plain": [
       "   A          B    C  D      E       F\n",
       "0  7 2019-01-01  1.0  3   test  Python\n",
       "1  7 2019-01-01  1.0  3  train  Python\n",
       "2  7 2019-01-01  1.0  3   test  Python\n",
       "3  7 2019-01-01  1.0  3  train  Python"
      ]
     },
     "execution_count": 60,
     "metadata": {},
     "output_type": "execute_result"
    }
   ],
   "source": [
    "df3"
   ]
  },
  {
   "cell_type": "code",
   "execution_count": 65,
   "id": "d3166ca9",
   "metadata": {},
   "outputs": [
    {
     "data": {
      "text/plain": [
       "A             int64\n",
       "B    datetime64[ns]\n",
       "C           float32\n",
       "D             int32\n",
       "E          category\n",
       "F            object\n",
       "dtype: object"
      ]
     },
     "execution_count": 65,
     "metadata": {},
     "output_type": "execute_result"
    }
   ],
   "source": [
    "df3.dtypes"
   ]
  },
  {
   "cell_type": "markdown",
   "id": "0175dc6a",
   "metadata": {},
   "source": [
    "#Aula3"
   ]
  },
  {
   "cell_type": "code",
   "execution_count": null,
   "id": "f18ff464",
   "metadata": {},
   "outputs": [],
   "source": []
  }
 ],
 "metadata": {
  "kernelspec": {
   "display_name": "Python 3 (ipykernel)",
   "language": "python",
   "name": "python3"
  },
  "language_info": {
   "codemirror_mode": {
    "name": "ipython",
    "version": 3
   },
   "file_extension": ".py",
   "mimetype": "text/x-python",
   "name": "python",
   "nbconvert_exporter": "python",
   "pygments_lexer": "ipython3",
   "version": "3.9.12"
  }
 },
 "nbformat": 4,
 "nbformat_minor": 5
}
