{
 "cells": [
  {
   "cell_type": "code",
   "execution_count": 2,
   "id": "abcad4ae",
   "metadata": {},
   "outputs": [],
   "source": [
    "import pandas as pd\n",
    "import numpy as np"
   ]
  },
  {
   "cell_type": "markdown",
   "id": "dde64d4e",
   "metadata": {},
   "source": [
    "# Reshaping Reformualar os dados"
   ]
  },
  {
   "cell_type": "code",
   "execution_count": 3,
   "id": "517cf468",
   "metadata": {},
   "outputs": [],
   "source": [
    "datas = pd.date_range('20200101',periods=6)\n",
    "\n",
    "df1 = pd.DataFrame(np.random.randn(6,4), index=datas, columns=['Var_A','Var_B','Var_C','Var_D'])"
   ]
  },
  {
   "cell_type": "code",
   "execution_count": 4,
   "id": "79e48a71",
   "metadata": {},
   "outputs": [
    {
     "data": {
      "text/html": [
       "<div>\n",
       "<style scoped>\n",
       "    .dataframe tbody tr th:only-of-type {\n",
       "        vertical-align: middle;\n",
       "    }\n",
       "\n",
       "    .dataframe tbody tr th {\n",
       "        vertical-align: top;\n",
       "    }\n",
       "\n",
       "    .dataframe thead th {\n",
       "        text-align: right;\n",
       "    }\n",
       "</style>\n",
       "<table border=\"1\" class=\"dataframe\">\n",
       "  <thead>\n",
       "    <tr style=\"text-align: right;\">\n",
       "      <th></th>\n",
       "      <th>Var_A</th>\n",
       "      <th>Var_B</th>\n",
       "      <th>Var_C</th>\n",
       "      <th>Var_D</th>\n",
       "    </tr>\n",
       "  </thead>\n",
       "  <tbody>\n",
       "    <tr>\n",
       "      <th>2020-01-01</th>\n",
       "      <td>-2.190322</td>\n",
       "      <td>0.721334</td>\n",
       "      <td>0.285965</td>\n",
       "      <td>0.111340</td>\n",
       "    </tr>\n",
       "    <tr>\n",
       "      <th>2020-01-02</th>\n",
       "      <td>-0.021508</td>\n",
       "      <td>1.021150</td>\n",
       "      <td>0.612305</td>\n",
       "      <td>0.124988</td>\n",
       "    </tr>\n",
       "    <tr>\n",
       "      <th>2020-01-03</th>\n",
       "      <td>0.460089</td>\n",
       "      <td>-0.543911</td>\n",
       "      <td>0.727650</td>\n",
       "      <td>0.038319</td>\n",
       "    </tr>\n",
       "    <tr>\n",
       "      <th>2020-01-04</th>\n",
       "      <td>-0.412609</td>\n",
       "      <td>0.845489</td>\n",
       "      <td>-0.597168</td>\n",
       "      <td>-0.625514</td>\n",
       "    </tr>\n",
       "    <tr>\n",
       "      <th>2020-01-05</th>\n",
       "      <td>2.039059</td>\n",
       "      <td>-0.327856</td>\n",
       "      <td>-1.400299</td>\n",
       "      <td>-0.662863</td>\n",
       "    </tr>\n",
       "    <tr>\n",
       "      <th>2020-01-06</th>\n",
       "      <td>-1.284123</td>\n",
       "      <td>0.095327</td>\n",
       "      <td>0.297559</td>\n",
       "      <td>1.461803</td>\n",
       "    </tr>\n",
       "  </tbody>\n",
       "</table>\n",
       "</div>"
      ],
      "text/plain": [
       "               Var_A     Var_B     Var_C     Var_D\n",
       "2020-01-01 -2.190322  0.721334  0.285965  0.111340\n",
       "2020-01-02 -0.021508  1.021150  0.612305  0.124988\n",
       "2020-01-03  0.460089 -0.543911  0.727650  0.038319\n",
       "2020-01-04 -0.412609  0.845489 -0.597168 -0.625514\n",
       "2020-01-05  2.039059 -0.327856 -1.400299 -0.662863\n",
       "2020-01-06 -1.284123  0.095327  0.297559  1.461803"
      ]
     },
     "execution_count": 4,
     "metadata": {},
     "output_type": "execute_result"
    }
   ],
   "source": [
    "df"
   ]
  },
  {
   "cell_type": "code",
   "execution_count": 5,
   "id": "3d4abd2f",
   "metadata": {},
   "outputs": [
    {
     "data": {
      "text/html": [
       "<div>\n",
       "<style scoped>\n",
       "    .dataframe tbody tr th:only-of-type {\n",
       "        vertical-align: middle;\n",
       "    }\n",
       "\n",
       "    .dataframe tbody tr th {\n",
       "        vertical-align: top;\n",
       "    }\n",
       "\n",
       "    .dataframe thead th {\n",
       "        text-align: right;\n",
       "    }\n",
       "</style>\n",
       "<table border=\"1\" class=\"dataframe\">\n",
       "  <thead>\n",
       "    <tr style=\"text-align: right;\">\n",
       "      <th></th>\n",
       "      <th>2020-01-01</th>\n",
       "      <th>2020-01-02</th>\n",
       "      <th>2020-01-03</th>\n",
       "      <th>2020-01-04</th>\n",
       "      <th>2020-01-05</th>\n",
       "      <th>2020-01-06</th>\n",
       "    </tr>\n",
       "  </thead>\n",
       "  <tbody>\n",
       "    <tr>\n",
       "      <th>Var_A</th>\n",
       "      <td>-2.190322</td>\n",
       "      <td>-0.021508</td>\n",
       "      <td>0.460089</td>\n",
       "      <td>-0.412609</td>\n",
       "      <td>2.039059</td>\n",
       "      <td>-1.284123</td>\n",
       "    </tr>\n",
       "    <tr>\n",
       "      <th>Var_B</th>\n",
       "      <td>0.721334</td>\n",
       "      <td>1.021150</td>\n",
       "      <td>-0.543911</td>\n",
       "      <td>0.845489</td>\n",
       "      <td>-0.327856</td>\n",
       "      <td>0.095327</td>\n",
       "    </tr>\n",
       "    <tr>\n",
       "      <th>Var_C</th>\n",
       "      <td>0.285965</td>\n",
       "      <td>0.612305</td>\n",
       "      <td>0.727650</td>\n",
       "      <td>-0.597168</td>\n",
       "      <td>-1.400299</td>\n",
       "      <td>0.297559</td>\n",
       "    </tr>\n",
       "    <tr>\n",
       "      <th>Var_D</th>\n",
       "      <td>0.111340</td>\n",
       "      <td>0.124988</td>\n",
       "      <td>0.038319</td>\n",
       "      <td>-0.625514</td>\n",
       "      <td>-0.662863</td>\n",
       "      <td>1.461803</td>\n",
       "    </tr>\n",
       "  </tbody>\n",
       "</table>\n",
       "</div>"
      ],
      "text/plain": [
       "       2020-01-01  2020-01-02  2020-01-03  2020-01-04  2020-01-05  2020-01-06\n",
       "Var_A   -2.190322   -0.021508    0.460089   -0.412609    2.039059   -1.284123\n",
       "Var_B    0.721334    1.021150   -0.543911    0.845489   -0.327856    0.095327\n",
       "Var_C    0.285965    0.612305    0.727650   -0.597168   -1.400299    0.297559\n",
       "Var_D    0.111340    0.124988    0.038319   -0.625514   -0.662863    1.461803"
      ]
     },
     "execution_count": 5,
     "metadata": {},
     "output_type": "execute_result"
    }
   ],
   "source": [
    "df.T"
   ]
  },
  {
   "cell_type": "code",
   "execution_count": 6,
   "id": "ac136627",
   "metadata": {},
   "outputs": [],
   "source": [
    "dft = df.T"
   ]
  },
  {
   "cell_type": "code",
   "execution_count": 7,
   "id": "3c2d2b59",
   "metadata": {},
   "outputs": [
    {
     "data": {
      "text/plain": [
       "(6, 4)"
      ]
     },
     "execution_count": 7,
     "metadata": {},
     "output_type": "execute_result"
    }
   ],
   "source": [
    "df.shape"
   ]
  },
  {
   "cell_type": "code",
   "execution_count": 13,
   "id": "c1cd0137",
   "metadata": {},
   "outputs": [
    {
     "data": {
      "text/plain": [
       "array([[-2.19032156,  0.72133383,  0.28596486,  0.11134041],\n",
       "       [-0.02150837,  1.02114959,  0.61230544,  0.12498834],\n",
       "       [ 0.4600886 , -0.54391093,  0.72764997,  0.03831874],\n",
       "       [-0.41260865,  0.84548917, -0.59716821, -0.62551412],\n",
       "       [ 2.0390585 , -0.32785632, -1.4002985 , -0.66286267],\n",
       "       [-1.28412327,  0.0953271 ,  0.29755915,  1.46180285]])"
      ]
     },
     "execution_count": 13,
     "metadata": {},
     "output_type": "execute_result"
    }
   ],
   "source": [
    "df.values"
   ]
  },
  {
   "cell_type": "code",
   "execution_count": 14,
   "id": "596f4b92",
   "metadata": {},
   "outputs": [],
   "source": [
    "v =df"
   ]
  },
  {
   "cell_type": "code",
   "execution_count": 16,
   "id": "32fcf482",
   "metadata": {},
   "outputs": [
    {
     "ename": "AttributeError",
     "evalue": "'DataFrame' object has no attribute 'reshape'",
     "output_type": "error",
     "traceback": [
      "\u001b[1;31m---------------------------------------------------------------------------\u001b[0m",
      "\u001b[1;31mAttributeError\u001b[0m                            Traceback (most recent call last)",
      "Input \u001b[1;32mIn [16]\u001b[0m, in \u001b[0;36m<cell line: 1>\u001b[1;34m()\u001b[0m\n\u001b[1;32m----> 1\u001b[0m \u001b[43mv\u001b[49m\u001b[38;5;241;43m.\u001b[39;49m\u001b[43mreshape\u001b[49m((\u001b[38;5;241m4\u001b[39m,\u001b[38;5;241m12\u001b[39m))\n",
      "File \u001b[1;32m~\\anaconda3\\lib\\site-packages\\pandas\\core\\generic.py:5575\u001b[0m, in \u001b[0;36mNDFrame.__getattr__\u001b[1;34m(self, name)\u001b[0m\n\u001b[0;32m   5568\u001b[0m \u001b[38;5;28;01mif\u001b[39;00m (\n\u001b[0;32m   5569\u001b[0m     name \u001b[38;5;129;01mnot\u001b[39;00m \u001b[38;5;129;01min\u001b[39;00m \u001b[38;5;28mself\u001b[39m\u001b[38;5;241m.\u001b[39m_internal_names_set\n\u001b[0;32m   5570\u001b[0m     \u001b[38;5;129;01mand\u001b[39;00m name \u001b[38;5;129;01mnot\u001b[39;00m \u001b[38;5;129;01min\u001b[39;00m \u001b[38;5;28mself\u001b[39m\u001b[38;5;241m.\u001b[39m_metadata\n\u001b[0;32m   5571\u001b[0m     \u001b[38;5;129;01mand\u001b[39;00m name \u001b[38;5;129;01mnot\u001b[39;00m \u001b[38;5;129;01min\u001b[39;00m \u001b[38;5;28mself\u001b[39m\u001b[38;5;241m.\u001b[39m_accessors\n\u001b[0;32m   5572\u001b[0m     \u001b[38;5;129;01mand\u001b[39;00m \u001b[38;5;28mself\u001b[39m\u001b[38;5;241m.\u001b[39m_info_axis\u001b[38;5;241m.\u001b[39m_can_hold_identifiers_and_holds_name(name)\n\u001b[0;32m   5573\u001b[0m ):\n\u001b[0;32m   5574\u001b[0m     \u001b[38;5;28;01mreturn\u001b[39;00m \u001b[38;5;28mself\u001b[39m[name]\n\u001b[1;32m-> 5575\u001b[0m \u001b[38;5;28;01mreturn\u001b[39;00m \u001b[38;5;28;43mobject\u001b[39;49m\u001b[38;5;241;43m.\u001b[39;49m\u001b[38;5;21;43m__getattribute__\u001b[39;49m\u001b[43m(\u001b[49m\u001b[38;5;28;43mself\u001b[39;49m\u001b[43m,\u001b[49m\u001b[43m \u001b[49m\u001b[43mname\u001b[49m\u001b[43m)\u001b[49m\n",
      "\u001b[1;31mAttributeError\u001b[0m: 'DataFrame' object has no attribute 'reshape'"
     ]
    }
   ],
   "source": [
    "v.reshape((4,12))"
   ]
  },
  {
   "cell_type": "code",
   "execution_count": null,
   "id": "91ee1af6",
   "metadata": {},
   "outputs": [],
   "source": []
  }
 ],
 "metadata": {
  "kernelspec": {
   "display_name": "Python 3 (ipykernel)",
   "language": "python",
   "name": "python3"
  },
  "language_info": {
   "codemirror_mode": {
    "name": "ipython",
    "version": 3
   },
   "file_extension": ".py",
   "mimetype": "text/x-python",
   "name": "python",
   "nbconvert_exporter": "python",
   "pygments_lexer": "ipython3",
   "version": "3.9.12"
  }
 },
 "nbformat": 4,
 "nbformat_minor": 5
}
