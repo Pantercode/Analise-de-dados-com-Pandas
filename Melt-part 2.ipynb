{
 "cells": [
  {
   "cell_type": "code",
   "execution_count": 32,
   "id": "cbc261eb",
   "metadata": {},
   "outputs": [],
   "source": [
    "import pandas as pd"
   ]
  },
  {
   "cell_type": "code",
   "execution_count": 39,
   "id": "ed6438c5",
   "metadata": {},
   "outputs": [],
   "source": [
    "data = {\n",
    "    'Localização':['CidadeA','CidadeB'],\n",
    "    'Temperatura':['Prevista','Atual'],\n",
    "    'Set-2019':[30,32],\n",
    "    'Out-2019':[45,43],\n",
    "    'Nov-2019':[24,22]}"
   ]
  },
  {
   "cell_type": "code",
   "execution_count": 40,
   "id": "479bf827",
   "metadata": {},
   "outputs": [
    {
     "name": "stdout",
     "output_type": "stream",
     "text": [
      "{'Localização': ['CidadeA', 'CidadeB'], 'Temperatura': ['Prevista', 'Atual'], 'Set-2019': [30, 32], 'Out-2019': [45, 43], 'Nov-2019': [24, 22]}\n"
     ]
    }
   ],
   "source": [
    "print(data)"
   ]
  },
  {
   "cell_type": "markdown",
   "id": "e0a56924",
   "metadata": {},
   "source": [
    "# converte pra colunas"
   ]
  },
  {
   "cell_type": "code",
   "execution_count": 41,
   "id": "d6a60b91",
   "metadata": {},
   "outputs": [],
   "source": [
    "#df = pd.DataFrame(data,columns=['Localização','Temperatura','Set-2019','Out-2019','Nov-2019'])\n",
    "#print(df)"
   ]
  },
  {
   "cell_type": "code",
   "execution_count": 44,
   "id": "969003c2",
   "metadata": {},
   "outputs": [],
   "source": [
    "#df = pd.melt(df,id_vars=[\"Localização\",\"Temperatura\"], var_name=\"Date\",value_name='Value')\n",
    "#print(df)"
   ]
  },
  {
   "cell_type": "markdown",
   "id": "a159960c",
   "metadata": {},
   "source": [
    "# Mudando nome dos df"
   ]
  },
  {
   "cell_type": "code",
   "execution_count": 43,
   "id": "79f4f5e2",
   "metadata": {},
   "outputs": [
    {
     "name": "stdout",
     "output_type": "stream",
     "text": [
      "   Localização   Date        Value\n",
      "0      CidadeA   Date  Temperatura\n",
      "1      CidadeB   Date  Temperatura\n",
      "2      CidadeA   Date  Temperatura\n",
      "3      CidadeB   Date  Temperatura\n",
      "4      CidadeA   Date  Temperatura\n",
      "5      CidadeB   Date  Temperatura\n",
      "6      CidadeA   Date         Date\n",
      "7      CidadeB   Date         Date\n",
      "8      CidadeA   Date         Date\n",
      "9      CidadeB   Date         Date\n",
      "10     CidadeA   Date         Date\n",
      "11     CidadeB   Date         Date\n",
      "12     CidadeA   Date        Value\n",
      "13     CidadeB   Date        Value\n",
      "14     CidadeA   Date        Value\n",
      "15     CidadeB   Date        Value\n",
      "16     CidadeA   Date        Value\n",
      "17     CidadeB   Date        Value\n",
      "18     CidadeA  Value     Prevista\n",
      "19     CidadeB  Value        Atual\n",
      "20     CidadeA  Value     Prevista\n",
      "21     CidadeB  Value        Atual\n",
      "22     CidadeA  Value     Prevista\n",
      "23     CidadeB  Value        Atual\n",
      "24     CidadeA  Value     Set-2019\n",
      "25     CidadeB  Value     Set-2019\n",
      "26     CidadeA  Value     Out-2019\n",
      "27     CidadeB  Value     Out-2019\n",
      "28     CidadeA  Value     Nov-2019\n",
      "29     CidadeB  Value     Nov-2019\n",
      "30     CidadeA  Value           30\n",
      "31     CidadeB  Value           32\n",
      "32     CidadeA  Value           45\n",
      "33     CidadeB  Value           43\n",
      "34     CidadeA  Value           24\n",
      "35     CidadeB  Value           22\n"
     ]
    },
    {
     "name": "stderr",
     "output_type": "stream",
     "text": [
      "C:\\Users\\Home\\AppData\\Local\\Temp\\ipykernel_1036\\483451013.py:1: FutureWarning: This dataframe has a column name that matches the 'value_name' column name of the resulting Dataframe. In the future this will raise an error, please set the 'value_name' parameter of DataFrame.melt to a unique name.\n",
      "  df = pd.melt(df,id_vars=[\"Localização\"], var_name=\"Date\",value_name='Value')\n"
     ]
    }
   ],
   "source": [
    "df = pd.melt(df,id_vars=[\"Localização\"], var_name=\"Date\",value_name='Value')\n",
    "print(df)\n"
   ]
  },
  {
   "cell_type": "code",
   "execution_count": null,
   "id": "f60eaf48",
   "metadata": {},
   "outputs": [],
   "source": []
  }
 ],
 "metadata": {
  "kernelspec": {
   "display_name": "Python 3 (ipykernel)",
   "language": "python",
   "name": "python3"
  },
  "language_info": {
   "codemirror_mode": {
    "name": "ipython",
    "version": 3
   },
   "file_extension": ".py",
   "mimetype": "text/x-python",
   "name": "python",
   "nbconvert_exporter": "python",
   "pygments_lexer": "ipython3",
   "version": "3.9.12"
  }
 },
 "nbformat": 4,
 "nbformat_minor": 5
}
